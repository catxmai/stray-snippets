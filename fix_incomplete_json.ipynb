{
 "cells": [
  {
   "cell_type": "code",
   "execution_count": null,
   "id": "ce873e6a",
   "metadata": {},
   "outputs": [],
   "source": [
    "def fix_incomplete_json(string) -> dict:\n",
    "    \n",
    "    # Assuming json is truncated thus rendered incomplete\n",
    "\n",
    "    pairs = {\n",
    "        '[': ']',\n",
    "        '{': '}',\n",
    "        '\"': '\"'\n",
    "    }\n",
    "    open_stack = []\n",
    "    dict_suffix = ':0'\n",
    "\n",
    "    string = string.replace(\"\\'\", \"\\\"\")\n",
    "\n",
    "    for char in string:\n",
    "        if char == '\"':\n",
    "            prev_open = open_stack[-1:][0]\n",
    "            if prev_open != char:\n",
    "                open_stack.append(char)\n",
    "            else:\n",
    "                open_stack.pop()\n",
    "\n",
    "        elif char in pairs.keys():\n",
    "            open_stack.append(char)\n",
    "\n",
    "        elif char in pairs.values():\n",
    "            prev_open = open_stack.pop()\n",
    "            if pairs[prev_open] != char:\n",
    "                print(f\"char: {char}, prev_open: {prev_open}\")\n",
    "                raise Exception('invalid')\n",
    "\n",
    "    open_stack.reverse()\n",
    "    to_append = ''.join([pairs[open_char] for open_char in open_stack])\n",
    "    string += to_append\n",
    "\n",
    "    try:\n",
    "        data = json.loads(string)\n",
    "    except ValueError as e:\n",
    "        msg = str(e)\n",
    "        delimiter_pat = r\"(?<=Expecting ').\"\n",
    "        char_index_pat = r'(?<=char )\\d+'\n",
    "\n",
    "        ind = int(re.search(char_index_pat, msg)[0])\n",
    "        delim = re.search(delimiter_pat, msg)[0]\n",
    "\n",
    "        if delim == ':':\n",
    "            string = string[:ind] + dict_suffix + string[ind:]\n",
    "\n",
    "        data = json.loads(string)\n",
    "\n",
    "    return data"
   ]
  }
 ],
 "metadata": {
  "kernelspec": {
   "display_name": "Python 3 (ipykernel)",
   "language": "python",
   "name": "python3"
  },
  "language_info": {
   "codemirror_mode": {
    "name": "ipython",
    "version": 3
   },
   "file_extension": ".py",
   "mimetype": "text/x-python",
   "name": "python",
   "nbconvert_exporter": "python",
   "pygments_lexer": "ipython3",
   "version": "3.11.3"
  }
 },
 "nbformat": 4,
 "nbformat_minor": 5
}
